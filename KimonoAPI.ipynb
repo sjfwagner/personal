{
 "metadata": {
  "name": "",
  "signature": "sha256:748ac5faceadc84f75ec5fca28c32cbae7d09be658136055dc06a81438ea164e"
 },
 "nbformat": 3,
 "nbformat_minor": 0,
 "worksheets": [
  {
   "cells": [
    {
     "cell_type": "markdown",
     "metadata": {},
     "source": [
      "So you've made a kimono API and would like to get data from it? This short tutorial will show you how."
     ]
    },
    {
     "cell_type": "code",
     "collapsed": false,
     "input": [
      "#Here are the imports we'll be using in this tutorial\n",
      "import json #we will be both reading and writing as json\n",
      "import urllib #this allows python to access the url from your kimono api\n",
      "import time #we'll use this at the end to allow python to sleep\n",
      "import os #we'll use this to create directories (folders)"
     ],
     "language": "python",
     "metadata": {},
     "outputs": [],
     "prompt_number": 1
    },
    {
     "cell_type": "markdown",
     "metadata": {},
     "source": [
      "If you need to keep the program running, so that it grabs the data from kimono's api regularily without having to baby-sit it set up a while loop here, EX) 'while True:'"
     ]
    },
    {
     "cell_type": "code",
     "collapsed": false,
     "input": [
      "offset = 0 \n",
      "counter = 0     \n",
      "newData = True "
     ],
     "language": "python",
     "metadata": {},
     "outputs": [],
     "prompt_number": 5
    },
    {
     "cell_type": "markdown",
     "metadata": {},
     "source": [
      "offset - integer \n",
      "   Kimono only returns 2500 results at a time, if you have more than that (HT does) we'll have to set up an offset loop to make sure we get all the results. \n",
      "\n",
      "counter - integer\n",
      "   simple count variable used to name files as we loop through the offset data\n",
      "\n",
      "newData -  boolean\n",
      "   Variable starts as true, if there is no new data, it will be set to false and the offset loop will cancel\n"
     ]
    },
    {
     "cell_type": "code",
     "collapsed": false,
     "input": [
      "while(newData):\n",
      "    query = \"https://www.kimonolabs.com/api/9bq0gfb2?apikey=OyHokUfb4tVGxPjyZZ7x6VNWePchTuQb\"\n",
      "    kimoffset = \"&kimoffset=\"+str(offset) #here's where we offset the data gathered by the api, \n",
      "                                          #initialized at zero\n",
      "    results = json.load(urllib.urlopen(query+kimoffset)) #collecting the data from the api, as a json\n",
      "    \n",
      "    if not os.path.exists(\"~/Kimono_Test/EscortAdsData/\"+str(results[\"version\"])):\n",
      "        os.makedirs(\"~/Kimono_Test/EscortAdsData/\"+str(results[\"version\"]))\n",
      "        #We're checking to see if a folder for this version exists. If not we'll create it. \n",
      "    \n",
      "    if(results['count'] != 0):\n",
      "        #since we loaded results as a json, we can access it like a dictionary, using a key\n",
      "        #in this case, each results batch will have a 'count' of how much data is included\n",
      "        #when this count = 0, there's no more data to be collected\n",
      "        \n",
      "        filename = \"ESCORTADS \" + str(counter)+\".json\" #the name of the unique file we'll be saving\n",
      "                                                       #the name will change as we increment up\n",
      "        filepath = \"~/Kimono_Test/EscortAdsData/\"+str(results['version'])+\"/\"+filename\n",
      "            #here we've idenfied both the folder and filename, which tells the comp where to place the file\n",
      "        \n",
      "        offset += 2500 #kimono's return limit is 2500, so we're cycling to the next 2500\n",
      "        counter +=1 #increment this so that you have unique filenames\n",
      "        \n",
      "        with open(filepath,\"w\") as outfile: #opening the file path, and \"w\" means we're going to write a file\n",
      "            json.dump(results,outfile,indent=4) #we're writing the data as a json to the filepath\n",
      "    \n",
      "    elif(results['count']==0):\n",
      "        newData = False #here we're exiting the loop as soon as we've got all the data"
     ],
     "language": "python",
     "metadata": {},
     "outputs": [],
     "prompt_number": 6
    },
    {
     "cell_type": "markdown",
     "metadata": {},
     "source": [
      "You can print out some information about the run, but this will also be embedded in the files you just wrote! "
     ]
    },
    {
     "cell_type": "code",
     "collapsed": false,
     "input": [
      "print \"This Version Status\" , results[\"thisversionstatus\"]\n",
      "print \"Next Run: \", results[\"nextrun\"]\n",
      "print \"New Data:\" , results [\"newdata\"]"
     ],
     "language": "python",
     "metadata": {},
     "outputs": [
      {
       "output_type": "stream",
       "stream": "stdout",
       "text": [
        "This Version Status partial\n",
        "Next Run:  Tue Dec 23 2014 08:07:27 GMT+0000 (UTC)\n",
        "New Data: True\n"
       ]
      }
     ],
     "prompt_number": 7
    },
    {
     "cell_type": "markdown",
     "metadata": {},
     "source": [
      "That's how easy it is to get your data from kimono and save it to your computer. Quite a few steps can be omitted if your api returns less than 2500 results. However, the "
     ]
    },
    {
     "cell_type": "code",
     "collapsed": false,
     "input": [],
     "language": "python",
     "metadata": {},
     "outputs": []
    }
   ],
   "metadata": {}
  }
 ]
}